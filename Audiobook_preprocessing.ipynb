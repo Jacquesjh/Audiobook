{
  "nbformat": 4,
  "nbformat_minor": 0,
  "metadata": {
    "colab": {
      "name": "Audiobook_preprocessing",
      "provenance": [],
      "collapsed_sections": [],
      "mount_file_id": "1nBeSTrLiewena46fPNWNCm4-SGLUDA-Y",
      "authorship_tag": "ABX9TyO3I2UdnjsEyKfrN1ho2f8r",
      "include_colab_link": true
    },
    "kernelspec": {
      "name": "python3",
      "display_name": "Python 3"
    }
  },
  "cells": [
    {
      "cell_type": "markdown",
      "metadata": {
        "id": "view-in-github",
        "colab_type": "text"
      },
      "source": [
        "<a href=\"https://colab.research.google.com/github/Jacquesjh/Audiobook/blob/main/Audiobook_preprocessing.ipynb\" target=\"_parent\"><img src=\"https://colab.research.google.com/assets/colab-badge.svg\" alt=\"Open In Colab\"/></a>"
      ]
    },
    {
      "cell_type": "markdown",
      "metadata": {
        "id": "Xwc6I1w0n8E7"
      },
      "source": [
        "# Fazendo upload do documento .csv com os dados para serem pré processados"
      ]
    },
    {
      "cell_type": "code",
      "metadata": {
        "colab": {
          "base_uri": "https://localhost:8080/"
        },
        "id": "DDztMDcI9ICc",
        "outputId": "903d7935-cdac-4ee9-fde5-aaca414226e1"
      },
      "source": [
        "%cd /content/drive/MyDrive/Machine Learning/Audiobook"
      ],
      "execution_count": null,
      "outputs": [
        {
          "output_type": "stream",
          "text": [
            "/content/drive/MyDrive/Machine Learning/Audiobook\n"
          ],
          "name": "stdout"
        }
      ]
    },
    {
      "cell_type": "code",
      "metadata": {
        "id": "jc7eOI5ezsfD",
        "colab": {
          "resources": {
            "http://localhost:8080/nbextensions/google.colab/files.js": {
              "data": "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",
              "ok": true,
              "headers": [
                [
                  "content-type",
                  "application/javascript"
                ]
              ],
              "status": 200,
              "status_text": ""
            }
          },
          "base_uri": "https://localhost:8080/",
          "height": 72
        },
        "outputId": "26cf4d99-8f4e-4c81-b79d-b040529a41d7"
      },
      "source": [
        "from google.colab import files\n",
        "\n",
        "uploaded = files.upload()"
      ],
      "execution_count": null,
      "outputs": [
        {
          "output_type": "display_data",
          "data": {
            "text/html": [
              "\n",
              "     <input type=\"file\" id=\"files-c466ef24-1168-4683-bfa6-b6784a2134c9\" name=\"files[]\" multiple disabled\n",
              "        style=\"border:none\" />\n",
              "     <output id=\"result-c466ef24-1168-4683-bfa6-b6784a2134c9\">\n",
              "      Upload widget is only available when the cell has been executed in the\n",
              "      current browser session. Please rerun this cell to enable.\n",
              "      </output>\n",
              "      <script src=\"/nbextensions/google.colab/files.js\"></script> "
            ],
            "text/plain": [
              "<IPython.core.display.HTML object>"
            ]
          },
          "metadata": {
            "tags": []
          }
        },
        {
          "output_type": "stream",
          "text": [
            "Saving Audiobooks_data.csv to Audiobooks_data.csv\n"
          ],
          "name": "stdout"
        }
      ]
    },
    {
      "cell_type": "markdown",
      "metadata": {
        "id": "p0qdLkCPoGoM"
      },
      "source": [
        "##Aqui nos importamos todas as bibliotecas que iremos usar para o processo"
      ]
    },
    {
      "cell_type": "code",
      "metadata": {
        "id": "_d8d9TiM0JsA"
      },
      "source": [
        "import numpy as np\n",
        "import pandas as pd\n",
        "from sklearn import preprocessing\n",
        "import io\n",
        "\n",
        "##Utilizamos pandas para transformar o arquivo ainda em .csv em um dataframe trabalhável\n",
        "raw_data = pd.read_csv(io.BytesIO(uploaded['Audiobooks_data.csv']))"
      ],
      "execution_count": null,
      "outputs": []
    },
    {
      "cell_type": "markdown",
      "metadata": {
        "id": "3AaOXpc6oMpb"
      },
      "source": [
        "##Com as bibliotecas importados, começamos a trabalhar no nosso dataset"
      ]
    },
    {
      "cell_type": "code",
      "metadata": {
        "colab": {
          "base_uri": "https://localhost:8080/",
          "height": 419
        },
        "id": "bWhdsrn4C0dT",
        "outputId": "a1d5514c-c0af-4b31-adeb-f403e0f72b65"
      },
      "source": [
        "#Aqui apenas visualizamos o nosso dataset\n",
        "raw_data "
      ],
      "execution_count": null,
      "outputs": [
        {
          "output_type": "execute_result",
          "data": {
            "text/html": [
              "<div>\n",
              "<style scoped>\n",
              "    .dataframe tbody tr th:only-of-type {\n",
              "        vertical-align: middle;\n",
              "    }\n",
              "\n",
              "    .dataframe tbody tr th {\n",
              "        vertical-align: top;\n",
              "    }\n",
              "\n",
              "    .dataframe thead th {\n",
              "        text-align: right;\n",
              "    }\n",
              "</style>\n",
              "<table border=\"1\" class=\"dataframe\">\n",
              "  <thead>\n",
              "    <tr style=\"text-align: right;\">\n",
              "      <th></th>\n",
              "      <th>00994</th>\n",
              "      <th>1620</th>\n",
              "      <th>1620.1</th>\n",
              "      <th>19.73</th>\n",
              "      <th>19.73.1</th>\n",
              "      <th>1</th>\n",
              "      <th>10.00</th>\n",
              "      <th>0.99</th>\n",
              "      <th>1603.80</th>\n",
              "      <th>5</th>\n",
              "      <th>92</th>\n",
              "      <th>0</th>\n",
              "    </tr>\n",
              "  </thead>\n",
              "  <tbody>\n",
              "    <tr>\n",
              "      <th>0</th>\n",
              "      <td>1143</td>\n",
              "      <td>2160.0</td>\n",
              "      <td>2160</td>\n",
              "      <td>5.33</td>\n",
              "      <td>5.33</td>\n",
              "      <td>0</td>\n",
              "      <td>8.91</td>\n",
              "      <td>0.00</td>\n",
              "      <td>0.0</td>\n",
              "      <td>0</td>\n",
              "      <td>0</td>\n",
              "      <td>0</td>\n",
              "    </tr>\n",
              "    <tr>\n",
              "      <th>1</th>\n",
              "      <td>2059</td>\n",
              "      <td>2160.0</td>\n",
              "      <td>2160</td>\n",
              "      <td>5.33</td>\n",
              "      <td>5.33</td>\n",
              "      <td>0</td>\n",
              "      <td>8.91</td>\n",
              "      <td>0.00</td>\n",
              "      <td>0.0</td>\n",
              "      <td>0</td>\n",
              "      <td>388</td>\n",
              "      <td>0</td>\n",
              "    </tr>\n",
              "    <tr>\n",
              "      <th>2</th>\n",
              "      <td>2882</td>\n",
              "      <td>1620.0</td>\n",
              "      <td>1620</td>\n",
              "      <td>5.96</td>\n",
              "      <td>5.96</td>\n",
              "      <td>0</td>\n",
              "      <td>8.91</td>\n",
              "      <td>0.42</td>\n",
              "      <td>680.4</td>\n",
              "      <td>1</td>\n",
              "      <td>129</td>\n",
              "      <td>0</td>\n",
              "    </tr>\n",
              "    <tr>\n",
              "      <th>3</th>\n",
              "      <td>3342</td>\n",
              "      <td>2160.0</td>\n",
              "      <td>2160</td>\n",
              "      <td>5.33</td>\n",
              "      <td>5.33</td>\n",
              "      <td>0</td>\n",
              "      <td>8.91</td>\n",
              "      <td>0.22</td>\n",
              "      <td>475.2</td>\n",
              "      <td>0</td>\n",
              "      <td>361</td>\n",
              "      <td>0</td>\n",
              "    </tr>\n",
              "    <tr>\n",
              "      <th>4</th>\n",
              "      <td>3416</td>\n",
              "      <td>2160.0</td>\n",
              "      <td>2160</td>\n",
              "      <td>4.61</td>\n",
              "      <td>4.61</td>\n",
              "      <td>0</td>\n",
              "      <td>8.91</td>\n",
              "      <td>0.00</td>\n",
              "      <td>0.0</td>\n",
              "      <td>0</td>\n",
              "      <td>0</td>\n",
              "      <td>0</td>\n",
              "    </tr>\n",
              "    <tr>\n",
              "      <th>...</th>\n",
              "      <td>...</td>\n",
              "      <td>...</td>\n",
              "      <td>...</td>\n",
              "      <td>...</td>\n",
              "      <td>...</td>\n",
              "      <td>...</td>\n",
              "      <td>...</td>\n",
              "      <td>...</td>\n",
              "      <td>...</td>\n",
              "      <td>...</td>\n",
              "      <td>...</td>\n",
              "      <td>...</td>\n",
              "    </tr>\n",
              "    <tr>\n",
              "      <th>14078</th>\n",
              "      <td>28220</td>\n",
              "      <td>1620.0</td>\n",
              "      <td>1620</td>\n",
              "      <td>5.33</td>\n",
              "      <td>5.33</td>\n",
              "      <td>1</td>\n",
              "      <td>9.00</td>\n",
              "      <td>0.61</td>\n",
              "      <td>988.2</td>\n",
              "      <td>0</td>\n",
              "      <td>4</td>\n",
              "      <td>0</td>\n",
              "    </tr>\n",
              "    <tr>\n",
              "      <th>14079</th>\n",
              "      <td>28671</td>\n",
              "      <td>1080.0</td>\n",
              "      <td>1080</td>\n",
              "      <td>6.55</td>\n",
              "      <td>6.55</td>\n",
              "      <td>1</td>\n",
              "      <td>6.00</td>\n",
              "      <td>0.29</td>\n",
              "      <td>313.2</td>\n",
              "      <td>0</td>\n",
              "      <td>29</td>\n",
              "      <td>0</td>\n",
              "    </tr>\n",
              "    <tr>\n",
              "      <th>14080</th>\n",
              "      <td>31134</td>\n",
              "      <td>2160.0</td>\n",
              "      <td>2160</td>\n",
              "      <td>6.14</td>\n",
              "      <td>6.14</td>\n",
              "      <td>0</td>\n",
              "      <td>8.91</td>\n",
              "      <td>0.00</td>\n",
              "      <td>0.0</td>\n",
              "      <td>0</td>\n",
              "      <td>0</td>\n",
              "      <td>0</td>\n",
              "    </tr>\n",
              "    <tr>\n",
              "      <th>14081</th>\n",
              "      <td>32832</td>\n",
              "      <td>1620.0</td>\n",
              "      <td>1620</td>\n",
              "      <td>5.33</td>\n",
              "      <td>5.33</td>\n",
              "      <td>1</td>\n",
              "      <td>8.00</td>\n",
              "      <td>0.38</td>\n",
              "      <td>615.6</td>\n",
              "      <td>0</td>\n",
              "      <td>90</td>\n",
              "      <td>0</td>\n",
              "    </tr>\n",
              "    <tr>\n",
              "      <th>14082</th>\n",
              "      <td>251</td>\n",
              "      <td>1674.0</td>\n",
              "      <td>3348</td>\n",
              "      <td>5.33</td>\n",
              "      <td>10.67</td>\n",
              "      <td>0</td>\n",
              "      <td>8.91</td>\n",
              "      <td>0.00</td>\n",
              "      <td>0.0</td>\n",
              "      <td>0</td>\n",
              "      <td>0</td>\n",
              "      <td>1</td>\n",
              "    </tr>\n",
              "  </tbody>\n",
              "</table>\n",
              "<p>14083 rows × 12 columns</p>\n",
              "</div>"
            ],
            "text/plain": [
              "       00994    1620  1620.1  19.73  19.73.1  ...  0.99  1603.80  5   92  0\n",
              "0       1143  2160.0    2160   5.33     5.33  ...  0.00      0.0  0    0  0\n",
              "1       2059  2160.0    2160   5.33     5.33  ...  0.00      0.0  0  388  0\n",
              "2       2882  1620.0    1620   5.96     5.96  ...  0.42    680.4  1  129  0\n",
              "3       3342  2160.0    2160   5.33     5.33  ...  0.22    475.2  0  361  0\n",
              "4       3416  2160.0    2160   4.61     4.61  ...  0.00      0.0  0    0  0\n",
              "...      ...     ...     ...    ...      ...  ...   ...      ... ..  ... ..\n",
              "14078  28220  1620.0    1620   5.33     5.33  ...  0.61    988.2  0    4  0\n",
              "14079  28671  1080.0    1080   6.55     6.55  ...  0.29    313.2  0   29  0\n",
              "14080  31134  2160.0    2160   6.14     6.14  ...  0.00      0.0  0    0  0\n",
              "14081  32832  1620.0    1620   5.33     5.33  ...  0.38    615.6  0   90  0\n",
              "14082    251  1674.0    3348   5.33    10.67  ...  0.00      0.0  0    0  1\n",
              "\n",
              "[14083 rows x 12 columns]"
            ]
          },
          "metadata": {
            "tags": []
          },
          "execution_count": 49
        }
      ]
    },
    {
      "cell_type": "code",
      "metadata": {
        "colab": {
          "base_uri": "https://localhost:8080/"
        },
        "id": "xJ4QNJDRC1Zu",
        "outputId": "a2478e8e-d217-4bb5-b7f4-5b5b2174af35"
      },
      "source": [
        "##Como o nosso dataset foi importado para código como um dataframe de pandas, é melhor transforma-lo em um array numpy, pois é mais facil de trabalhar\n",
        "array_raw_data = raw_data.to_numpy()\n",
        "array_raw_data"
      ],
      "execution_count": null,
      "outputs": [
        {
          "output_type": "execute_result",
          "data": {
            "text/plain": [
              "array([[1.1430e+03, 2.1600e+03, 2.1600e+03, ..., 0.0000e+00, 0.0000e+00,\n",
              "        0.0000e+00],\n",
              "       [2.0590e+03, 2.1600e+03, 2.1600e+03, ..., 0.0000e+00, 3.8800e+02,\n",
              "        0.0000e+00],\n",
              "       [2.8820e+03, 1.6200e+03, 1.6200e+03, ..., 1.0000e+00, 1.2900e+02,\n",
              "        0.0000e+00],\n",
              "       ...,\n",
              "       [3.1134e+04, 2.1600e+03, 2.1600e+03, ..., 0.0000e+00, 0.0000e+00,\n",
              "        0.0000e+00],\n",
              "       [3.2832e+04, 1.6200e+03, 1.6200e+03, ..., 0.0000e+00, 9.0000e+01,\n",
              "        0.0000e+00],\n",
              "       [2.5100e+02, 1.6740e+03, 3.3480e+03, ..., 0.0000e+00, 0.0000e+00,\n",
              "        1.0000e+00]])"
            ]
          },
          "metadata": {
            "tags": []
          },
          "execution_count": 50
        }
      ]
    },
    {
      "cell_type": "code",
      "metadata": {
        "id": "QgqlLJ3-EC-1"
      },
      "source": [
        "##Aqui nos separamos nosso dataset em dois: os inputs e os targets do nosso problema\n",
        "clear_inputs = array_raw_data[: ,1: -1]\n",
        "clear_targets = array_raw_data[: ,-1]\n",
        "##Podemos sobrevoar o mouse por cima das variaveis e objetos para verificar suas estruturas"
      ],
      "execution_count": null,
      "outputs": []
    },
    {
      "cell_type": "markdown",
      "metadata": {
        "id": "EoXjLNQaQm-4"
      },
      "source": [
        "##Agora para equilibrar o nosso dataset, deixando o número de 1s e 0s iguais"
      ]
    },
    {
      "cell_type": "code",
      "metadata": {
        "id": "QX4-H0TKP7Fw"
      },
      "source": [
        "##Queremos contar o numero de targets = 1 e verificar seus indices\n",
        "num_one_targets = int(np.sum(clear_targets))\n",
        "num_zero_counter = 0\n",
        "index_to_remove = []\n",
        "\n",
        "##Nessa função iremos deixar os targets = 0 até eles se equilibrarem com o numero de targets = 1\n",
        "##então nos armazenamos todos os outros indices que restam para excluirmos depois dos datasets\n",
        "for i in range(clear_targets.shape[0]):\n",
        "  if clear_targets[i] == 0:\n",
        "    num_zero_counter += 1\n",
        "\n",
        "    if num_zero_counter > num_one_targets:\n",
        "      index_to_remove.append(i)\n",
        "\n",
        "##Aqui nos excluímos os números de dados, que sao apenas de targets = 0 que iriam desequilibrar nossos dados em relação ao targets = 1\n",
        "balanced_inputs = np.delete(clear_inputs, index_to_remove, axis = 0)\n",
        "balanced_targets = np.delete(clear_targets, index_to_remove, axis = 0)"
      ],
      "execution_count": null,
      "outputs": []
    },
    {
      "cell_type": "markdown",
      "metadata": {
        "id": "88kjWABSrioP"
      },
      "source": [
        "##Agora nos queremos padronizar os features do inputs (padronizar cada coluna da matriz inputs)"
      ]
    },
    {
      "cell_type": "code",
      "metadata": {
        "id": "G-brc3bcrhwd"
      },
      "source": [
        "scaled_inputs = preprocessing.scale(balanced_inputs)"
      ],
      "execution_count": null,
      "outputs": []
    },
    {
      "cell_type": "markdown",
      "metadata": {
        "id": "2-9xTrsrssUb"
      },
      "source": [
        "#Com isso, devemos embaralhar nossos dados, mas devemos fazer isso de modo a preservar os indices de inputs e targets, ou seja, que sejam embaralhados igualmente"
      ]
    },
    {
      "cell_type": "code",
      "metadata": {
        "id": "f_8XTbd-soxD"
      },
      "source": [
        "##Aqui nos armazenanos os indices e embaralhamos]\n",
        "shuffled_indices = np.arange(scaled_inputs.shape[0])\n",
        "np.random.shuffle(shuffled_indices)\n",
        "\n",
        "#Então nos aplicamos os indices embaralhados aos datasets\n",
        "shuffled_inputs = scaled_inputs[shuffled_indices]\n",
        "shuffled_targets = balanced_targets[shuffled_indices]"
      ],
      "execution_count": null,
      "outputs": []
    },
    {
      "cell_type": "markdown",
      "metadata": {
        "id": "pSb31HiMxLta"
      },
      "source": [
        "#Precisamos, então, dividir nosso dataset em Train, Validation e Test datasets"
      ]
    },
    {
      "cell_type": "code",
      "metadata": {
        "id": "r5sOBGlPxTyg"
      },
      "source": [
        "#Aqui nos precisamos saber o número de dados que temos no nosso dataset, sendo que o número de dados no inputs é igual ao targets\n",
        "samples_counts = shuffled_indices.shape[0]\n",
        "\n",
        "#Queremos que nosso train set seja 80% do total, validation seja 10% e test seja 10%\n",
        "train_samples = int(0.8*samples_counts)\n",
        "validation_samples = int(0.1*samples_counts)\n",
        "test_samples = samples_counts - train_samples - validation_samples\n",
        "\n",
        "#Agora divimos realmente nosso banco de dados\n",
        "train_inputs = shuffled_inputs[: train_samples]      ##Ele começa de 0 até o número train_samples\n",
        "train_targets = shuffled_targets[: train_samples]\n",
        "\n",
        "validation_inputs = shuffled_inputs[train_samples: train_samples + validation_samples]\n",
        "validation_targets = shuffled_targets[train_samples: train_samples + validation_samples]\n",
        "\n",
        "test_inputs = shuffled_inputs[train_samples + validation_samples:]\n",
        "test_targets = shuffled_targets[train_samples + validation_samples:]"
      ],
      "execution_count": null,
      "outputs": []
    },
    {
      "cell_type": "code",
      "metadata": {
        "colab": {
          "base_uri": "https://localhost:8080/"
        },
        "id": "MOQtzodizBxv",
        "outputId": "00a63764-b177-461a-d425-745603ea97dc"
      },
      "source": [
        "##Aqui podemos verificar se nossas proporções estão coerentes, as porcentagens devem sempre estar entorno de 50%\n",
        "##Vale lembrar que estes número mudam toda vez que se der run na cédula de shuffle do nossos dados\n",
        "print(train_samples, np.sum(train_targets)/train_samples)\n",
        "print(validation_samples, np.sum(validation_targets)/validation_samples)\n",
        "print(test_samples, np.sum(test_targets)/test_samples)"
      ],
      "execution_count": null,
      "outputs": [
        {
          "output_type": "stream",
          "text": [
            "3579 0.502374965074043\n",
            "447 0.46756152125279643\n",
            "448 0.5133928571428571\n"
          ],
          "name": "stdout"
        }
      ]
    },
    {
      "cell_type": "markdown",
      "metadata": {
        "id": "rUqxv_K-0inC"
      },
      "source": [
        "#Assim, terminamos todos o pré processamento dos nossos dados, e podemos salva-los em um arquivo externo e usar para treinar nosso modelo "
      ]
    },
    {
      "cell_type": "code",
      "metadata": {
        "id": "zaFvQ-VUzM_N"
      },
      "source": [
        "np.savez('Audiobooks_train_data', inputs = train_inputs, targets = train_targets)\n",
        "np.savez('Audiobooks_validation_data', inputs = validation_inputs, targets = validation_targets)\n",
        "np.savez('Audiobooks_test_data', inputs = test_inputs, targets = test_targets)"
      ],
      "execution_count": null,
      "outputs": []
    }
  ]
}